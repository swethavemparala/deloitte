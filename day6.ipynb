{
 "cells": [
  {
   "cell_type": "code",
   "execution_count": 1,
   "metadata": {},
   "outputs": [],
   "source": [
    "import sqlite3"
   ]
  },
  {
   "cell_type": "code",
   "execution_count": 2,
   "metadata": {},
   "outputs": [],
   "source": [
    "con=sqlite3.connect('chinook.db')"
   ]
  },
  {
   "cell_type": "code",
   "execution_count": 3,
   "metadata": {},
   "outputs": [],
   "source": [
    "cur=con.cursor()"
   ]
  },
  {
   "cell_type": "code",
   "execution_count": 4,
   "metadata": {},
   "outputs": [],
   "source": [
    "query=\"\"\"select name from sqlite_master where type=\"table\" \"\"\""
   ]
  },
  {
   "cell_type": "code",
   "execution_count": 5,
   "metadata": {},
   "outputs": [
    {
     "data": {
      "text/plain": [
       "<sqlite3.Cursor at 0x19c2b167f80>"
      ]
     },
     "execution_count": 5,
     "metadata": {},
     "output_type": "execute_result"
    }
   ],
   "source": [
    "cur.execute(query)"
   ]
  },
  {
   "cell_type": "code",
   "execution_count": 6,
   "metadata": {},
   "outputs": [
    {
     "data": {
      "text/plain": [
       "[('albums',),\n",
       " ('sqlite_sequence',),\n",
       " ('artists',),\n",
       " ('customers',),\n",
       " ('employees',),\n",
       " ('genres',),\n",
       " ('invoices',),\n",
       " ('invoice_items',),\n",
       " ('media_types',),\n",
       " ('playlists',),\n",
       " ('playlist_track',),\n",
       " ('tracks',),\n",
       " ('sqlite_stat1',)]"
      ]
     },
     "execution_count": 6,
     "metadata": {},
     "output_type": "execute_result"
    }
   ],
   "source": [
    "cur.fetchall()"
   ]
  },
  {
   "cell_type": "code",
   "execution_count": 7,
   "metadata": {},
   "outputs": [],
   "source": [
    "q=\"\"\"select * from employees\"\"\""
   ]
  },
  {
   "cell_type": "code",
   "execution_count": 8,
   "metadata": {},
   "outputs": [
    {
     "data": {
      "text/plain": [
       "<sqlite3.Cursor at 0x19c2b167f80>"
      ]
     },
     "execution_count": 8,
     "metadata": {},
     "output_type": "execute_result"
    }
   ],
   "source": [
    "cur.execute(q)"
   ]
  },
  {
   "cell_type": "code",
   "execution_count": 27,
   "metadata": {},
   "outputs": [],
   "source": [
    "con.close()"
   ]
  },
  {
   "cell_type": "code",
   "execution_count": 20,
   "metadata": {},
   "outputs": [],
   "source": [
    "import sqlite3"
   ]
  },
  {
   "cell_type": "code",
   "execution_count": 21,
   "metadata": {},
   "outputs": [],
   "source": [
    "con = sqlite3.connect('chinook.db')"
   ]
  },
  {
   "cell_type": "code",
   "execution_count": 22,
   "metadata": {},
   "outputs": [],
   "source": [
    "cur = con.cursor()"
   ]
  },
  {
   "cell_type": "code",
   "execution_count": 23,
   "metadata": {},
   "outputs": [],
   "source": [
    "query = \"\"\"SELECT name from sqlite_master where type = \"table\" \"\"\""
   ]
  },
  {
   "cell_type": "code",
   "execution_count": 24,
   "metadata": {},
   "outputs": [
    {
     "data": {
      "text/plain": [
       "<sqlite3.Cursor at 0x2043d7d2260>"
      ]
     },
     "execution_count": 24,
     "metadata": {},
     "output_type": "execute_result"
    }
   ],
   "source": [
    "cur.execute(query)"
   ]
  },
  {
   "cell_type": "code",
   "execution_count": 26,
   "metadata": {},
   "outputs": [
    {
     "data": {
      "text/plain": [
       "[]"
      ]
     },
     "execution_count": 26,
     "metadata": {},
     "output_type": "execute_result"
    }
   ],
   "source": [
    "cur.fetchall()"
   ]
  },
  {
   "cell_type": "code",
   "execution_count": 1,
   "metadata": {},
   "outputs": [
    {
     "ename": "NameError",
     "evalue": "name 'con' is not defined",
     "output_type": "error",
     "traceback": [
      "\u001b[1;31m---------------------------------------------------------------------------\u001b[0m",
      "\u001b[1;31mNameError\u001b[0m                                 Traceback (most recent call last)",
      "\u001b[1;32m<ipython-input-1-8860625bdc69>\u001b[0m in \u001b[0;36m<module>\u001b[1;34m\u001b[0m\n\u001b[1;32m----> 1\u001b[1;33m \u001b[0mcon\u001b[0m\u001b[1;33m.\u001b[0m\u001b[0mclose\u001b[0m\u001b[1;33m(\u001b[0m\u001b[1;33m)\u001b[0m\u001b[1;33m\u001b[0m\u001b[1;33m\u001b[0m\u001b[0m\n\u001b[0m",
      "\u001b[1;31mNameError\u001b[0m: name 'con' is not defined"
     ]
    }
   ],
   "source": [
    "con.close()"
   ]
  },
  {
   "cell_type": "code",
   "execution_count": 9,
   "metadata": {},
   "outputs": [],
   "source": [
    "con.close()"
   ]
  },
  {
   "cell_type": "code",
   "execution_count": 10,
   "metadata": {},
   "outputs": [],
   "source": [
    "import sqlite3"
   ]
  },
  {
   "cell_type": "code",
   "execution_count": 11,
   "metadata": {},
   "outputs": [],
   "source": [
    "con=sqlite3.connect('chinook.db')"
   ]
  },
  {
   "cell_type": "code",
   "execution_count": 12,
   "metadata": {},
   "outputs": [],
   "source": [
    "cur = con.cursor()"
   ]
  },
  {
   "cell_type": "code",
   "execution_count": 13,
   "metadata": {},
   "outputs": [],
   "source": [
    "query = \"\"\"SELECT name from sqlite_master where type = \"table\" \"\"\""
   ]
  },
  {
   "cell_type": "code",
   "execution_count": 14,
   "metadata": {},
   "outputs": [
    {
     "data": {
      "text/plain": [
       "<sqlite3.Cursor at 0x19c2b167d50>"
      ]
     },
     "execution_count": 14,
     "metadata": {},
     "output_type": "execute_result"
    }
   ],
   "source": [
    "cur.execute(query)"
   ]
  },
  {
   "cell_type": "code",
   "execution_count": 15,
   "metadata": {},
   "outputs": [
    {
     "data": {
      "text/plain": [
       "[('albums',),\n",
       " ('sqlite_sequence',),\n",
       " ('artists',),\n",
       " ('customers',),\n",
       " ('employees',),\n",
       " ('genres',),\n",
       " ('invoices',),\n",
       " ('invoice_items',),\n",
       " ('media_types',),\n",
       " ('playlists',),\n",
       " ('playlist_track',),\n",
       " ('tracks',),\n",
       " ('sqlite_stat1',)]"
      ]
     },
     "execution_count": 15,
     "metadata": {},
     "output_type": "execute_result"
    }
   ],
   "source": [
    "cur.fetchall()"
   ]
  },
  {
   "cell_type": "code",
   "execution_count": 16,
   "metadata": {},
   "outputs": [],
   "source": [
    "query = \"SELECT * FROM employees\""
   ]
  },
  {
   "cell_type": "code",
   "execution_count": 17,
   "metadata": {},
   "outputs": [
    {
     "data": {
      "text/plain": [
       "<sqlite3.Cursor at 0x19c2b167d50>"
      ]
     },
     "execution_count": 17,
     "metadata": {},
     "output_type": "execute_result"
    }
   ],
   "source": [
    "cur.execute(query)"
   ]
  },
  {
   "cell_type": "code",
   "execution_count": 18,
   "metadata": {},
   "outputs": [
    {
     "data": {
      "text/plain": [
       "[(1,\n",
       "  'Adams',\n",
       "  'Andrew',\n",
       "  'General Manager',\n",
       "  None,\n",
       "  '1962-02-18 00:00:00',\n",
       "  '2002-08-14 00:00:00',\n",
       "  '11120 Jasper Ave NW',\n",
       "  'Edmonton',\n",
       "  'AB',\n",
       "  'Canada',\n",
       "  'T5K 2N1',\n",
       "  '+1 (780) 428-9482',\n",
       "  '+1 (780) 428-3457',\n",
       "  'andrew@chinookcorp.com'),\n",
       " (2,\n",
       "  'Edwards',\n",
       "  'Nancy',\n",
       "  'Sales Manager',\n",
       "  1,\n",
       "  '1958-12-08 00:00:00',\n",
       "  '2002-05-01 00:00:00',\n",
       "  '825 8 Ave SW',\n",
       "  'Calgary',\n",
       "  'AB',\n",
       "  'Canada',\n",
       "  'T2P 2T3',\n",
       "  '+1 (403) 262-3443',\n",
       "  '+1 (403) 262-3322',\n",
       "  'nancy@chinookcorp.com'),\n",
       " (3,\n",
       "  'Peacock',\n",
       "  'Jane',\n",
       "  'Sales Support Agent',\n",
       "  2,\n",
       "  '1973-08-29 00:00:00',\n",
       "  '2002-04-01 00:00:00',\n",
       "  '1111 6 Ave SW',\n",
       "  'Calgary',\n",
       "  'AB',\n",
       "  'Canada',\n",
       "  'T2P 5M5',\n",
       "  '+1 (403) 262-3443',\n",
       "  '+1 (403) 262-6712',\n",
       "  'jane@chinookcorp.com'),\n",
       " (4,\n",
       "  'Park',\n",
       "  'Margaret',\n",
       "  'Sales Support Agent',\n",
       "  2,\n",
       "  '1947-09-19 00:00:00',\n",
       "  '2003-05-03 00:00:00',\n",
       "  '683 10 Street SW',\n",
       "  'Calgary',\n",
       "  'AB',\n",
       "  'Canada',\n",
       "  'T2P 5G3',\n",
       "  '+1 (403) 263-4423',\n",
       "  '+1 (403) 263-4289',\n",
       "  'margaret@chinookcorp.com'),\n",
       " (5,\n",
       "  'Johnson',\n",
       "  'Steve',\n",
       "  'Sales Support Agent',\n",
       "  2,\n",
       "  '1965-03-03 00:00:00',\n",
       "  '2003-10-17 00:00:00',\n",
       "  '7727B 41 Ave',\n",
       "  'Calgary',\n",
       "  'AB',\n",
       "  'Canada',\n",
       "  'T3B 1Y7',\n",
       "  '1 (780) 836-9987',\n",
       "  '1 (780) 836-9543',\n",
       "  'steve@chinookcorp.com'),\n",
       " (6,\n",
       "  'Mitchell',\n",
       "  'Michael',\n",
       "  'IT Manager',\n",
       "  1,\n",
       "  '1973-07-01 00:00:00',\n",
       "  '2003-10-17 00:00:00',\n",
       "  '5827 Bowness Road NW',\n",
       "  'Calgary',\n",
       "  'AB',\n",
       "  'Canada',\n",
       "  'T3B 0C5',\n",
       "  '+1 (403) 246-9887',\n",
       "  '+1 (403) 246-9899',\n",
       "  'michael@chinookcorp.com'),\n",
       " (7,\n",
       "  'King',\n",
       "  'Robert',\n",
       "  'IT Staff',\n",
       "  6,\n",
       "  '1970-05-29 00:00:00',\n",
       "  '2004-01-02 00:00:00',\n",
       "  '590 Columbia Boulevard West',\n",
       "  'Lethbridge',\n",
       "  'AB',\n",
       "  'Canada',\n",
       "  'T1K 5N8',\n",
       "  '+1 (403) 456-9986',\n",
       "  '+1 (403) 456-8485',\n",
       "  'robert@chinookcorp.com'),\n",
       " (8,\n",
       "  'Callahan',\n",
       "  'Laura',\n",
       "  'IT Staff',\n",
       "  6,\n",
       "  '1968-01-09 00:00:00',\n",
       "  '2004-03-04 00:00:00',\n",
       "  '923 7 ST NW',\n",
       "  'Lethbridge',\n",
       "  'AB',\n",
       "  'Canada',\n",
       "  'T1H 1Y8',\n",
       "  '+1 (403) 467-3351',\n",
       "  '+1 (403) 467-8772',\n",
       "  'laura@chinookcorp.com')]"
      ]
     },
     "execution_count": 18,
     "metadata": {},
     "output_type": "execute_result"
    }
   ],
   "source": [
    "cur.fetchall()"
   ]
  },
  {
   "cell_type": "code",
   "execution_count": 25,
   "metadata": {},
   "outputs": [],
   "source": [
    "curb=con.cursor()"
   ]
  },
  {
   "cell_type": "code",
   "execution_count": null,
   "metadata": {},
   "outputs": [],
   "source": []
  },
  {
   "cell_type": "code",
   "execution_count": 28,
   "metadata": {},
   "outputs": [],
   "source": [
    "con.close()"
   ]
  },
  {
   "cell_type": "code",
   "execution_count": 41,
   "metadata": {},
   "outputs": [],
   "source": [
    "import sqlite3"
   ]
  },
  {
   "cell_type": "code",
   "execution_count": 42,
   "metadata": {},
   "outputs": [],
   "source": [
    "con=sqlite3.connect('chinook.db')"
   ]
  },
  {
   "cell_type": "code",
   "execution_count": 43,
   "metadata": {},
   "outputs": [],
   "source": [
    "curb = con.cursor()"
   ]
  },
  {
   "cell_type": "code",
   "execution_count": 44,
   "metadata": {},
   "outputs": [
    {
     "data": {
      "text/plain": [
       "[]"
      ]
     },
     "execution_count": 44,
     "metadata": {},
     "output_type": "execute_result"
    }
   ],
   "source": [
    "curb.fetchall()"
   ]
  },
  {
   "cell_type": "code",
   "execution_count": 45,
   "metadata": {},
   "outputs": [],
   "source": [
    "query = \"SELECT * FROM employees\""
   ]
  },
  {
   "cell_type": "code",
   "execution_count": 46,
   "metadata": {},
   "outputs": [
    {
     "data": {
      "text/plain": [
       "<sqlite3.Cursor at 0x19c2b1c8c70>"
      ]
     },
     "execution_count": 46,
     "metadata": {},
     "output_type": "execute_result"
    }
   ],
   "source": [
    "curb.execute(query)"
   ]
  },
  {
   "cell_type": "code",
   "execution_count": 47,
   "metadata": {},
   "outputs": [
    {
     "data": {
      "text/plain": [
       "[(1,\n",
       "  'Adams',\n",
       "  'Andrew',\n",
       "  'General Manager',\n",
       "  None,\n",
       "  '1962-02-18 00:00:00',\n",
       "  '2002-08-14 00:00:00',\n",
       "  '11120 Jasper Ave NW',\n",
       "  'Edmonton',\n",
       "  'AB',\n",
       "  'Canada',\n",
       "  'T5K 2N1',\n",
       "  '+1 (780) 428-9482',\n",
       "  '+1 (780) 428-3457',\n",
       "  'andrew@chinookcorp.com'),\n",
       " (2,\n",
       "  'Edwards',\n",
       "  'Nancy',\n",
       "  'Sales Manager',\n",
       "  1,\n",
       "  '1958-12-08 00:00:00',\n",
       "  '2002-05-01 00:00:00',\n",
       "  '825 8 Ave SW',\n",
       "  'Calgary',\n",
       "  'AB',\n",
       "  'Canada',\n",
       "  'T2P 2T3',\n",
       "  '+1 (403) 262-3443',\n",
       "  '+1 (403) 262-3322',\n",
       "  'nancy@chinookcorp.com'),\n",
       " (3,\n",
       "  'Peacock',\n",
       "  'Jane',\n",
       "  'Sales Support Agent',\n",
       "  2,\n",
       "  '1973-08-29 00:00:00',\n",
       "  '2002-04-01 00:00:00',\n",
       "  '1111 6 Ave SW',\n",
       "  'Calgary',\n",
       "  'AB',\n",
       "  'Canada',\n",
       "  'T2P 5M5',\n",
       "  '+1 (403) 262-3443',\n",
       "  '+1 (403) 262-6712',\n",
       "  'jane@chinookcorp.com'),\n",
       " (4,\n",
       "  'Park',\n",
       "  'Margaret',\n",
       "  'Sales Support Agent',\n",
       "  2,\n",
       "  '1947-09-19 00:00:00',\n",
       "  '2003-05-03 00:00:00',\n",
       "  '683 10 Street SW',\n",
       "  'Calgary',\n",
       "  'AB',\n",
       "  'Canada',\n",
       "  'T2P 5G3',\n",
       "  '+1 (403) 263-4423',\n",
       "  '+1 (403) 263-4289',\n",
       "  'margaret@chinookcorp.com'),\n",
       " (5,\n",
       "  'Johnson',\n",
       "  'Steve',\n",
       "  'Sales Support Agent',\n",
       "  2,\n",
       "  '1965-03-03 00:00:00',\n",
       "  '2003-10-17 00:00:00',\n",
       "  '7727B 41 Ave',\n",
       "  'Calgary',\n",
       "  'AB',\n",
       "  'Canada',\n",
       "  'T3B 1Y7',\n",
       "  '1 (780) 836-9987',\n",
       "  '1 (780) 836-9543',\n",
       "  'steve@chinookcorp.com'),\n",
       " (6,\n",
       "  'Mitchell',\n",
       "  'Michael',\n",
       "  'IT Manager',\n",
       "  1,\n",
       "  '1973-07-01 00:00:00',\n",
       "  '2003-10-17 00:00:00',\n",
       "  '5827 Bowness Road NW',\n",
       "  'Calgary',\n",
       "  'AB',\n",
       "  'Canada',\n",
       "  'T3B 0C5',\n",
       "  '+1 (403) 246-9887',\n",
       "  '+1 (403) 246-9899',\n",
       "  'michael@chinookcorp.com'),\n",
       " (7,\n",
       "  'King',\n",
       "  'Robert',\n",
       "  'IT Staff',\n",
       "  6,\n",
       "  '1970-05-29 00:00:00',\n",
       "  '2004-01-02 00:00:00',\n",
       "  '590 Columbia Boulevard West',\n",
       "  'Lethbridge',\n",
       "  'AB',\n",
       "  'Canada',\n",
       "  'T1K 5N8',\n",
       "  '+1 (403) 456-9986',\n",
       "  '+1 (403) 456-8485',\n",
       "  'robert@chinookcorp.com'),\n",
       " (8,\n",
       "  'Callahan',\n",
       "  'Laura',\n",
       "  'IT Staff',\n",
       "  6,\n",
       "  '1968-01-09 00:00:00',\n",
       "  '2004-03-04 00:00:00',\n",
       "  '923 7 ST NW',\n",
       "  'Lethbridge',\n",
       "  'AB',\n",
       "  'Canada',\n",
       "  'T1H 1Y8',\n",
       "  '+1 (403) 467-3351',\n",
       "  '+1 (403) 467-8772',\n",
       "  'laura@chinookcorp.com')]"
      ]
     },
     "execution_count": 47,
     "metadata": {},
     "output_type": "execute_result"
    }
   ],
   "source": [
    "curb.fetchall()"
   ]
  },
  {
   "cell_type": "code",
   "execution_count": 49,
   "metadata": {},
   "outputs": [
    {
     "name": "stdout",
     "output_type": "stream",
     "text": [
      "0\n"
     ]
    }
   ],
   "source": [
    "records = curb.fetchall()\n",
    "print(len(records))\n",
    "for record in records:\n",
    "    print(record)\n"
   ]
  },
  {
   "cell_type": "code",
   "execution_count": 50,
   "metadata": {},
   "outputs": [],
   "source": [
    "con.close()"
   ]
  },
  {
   "cell_type": "code",
   "execution_count": 51,
   "metadata": {},
   "outputs": [],
   "source": [
    "import sqlite3"
   ]
  },
  {
   "cell_type": "code",
   "execution_count": 52,
   "metadata": {},
   "outputs": [],
   "source": [
    "con=sqlite3.connect('sports.db')"
   ]
  },
  {
   "cell_type": "code",
   "execution_count": 53,
   "metadata": {},
   "outputs": [],
   "source": [
    "curb=con.cursor()"
   ]
  },
  {
   "cell_type": "code",
   "execution_count": 54,
   "metadata": {},
   "outputs": [],
   "source": [
    "q=\"create table players(id integer primary key,name text,sport text,\\\n",
    "earn real,country text)\""
   ]
  },
  {
   "cell_type": "code",
   "execution_count": 55,
   "metadata": {},
   "outputs": [
    {
     "data": {
      "text/plain": [
       "<sqlite3.Cursor at 0x19c2b1b4260>"
      ]
     },
     "execution_count": 55,
     "metadata": {},
     "output_type": "execute_result"
    }
   ],
   "source": [
    "curb.execute(q)"
   ]
  },
  {
   "cell_type": "code",
   "execution_count": 56,
   "metadata": {},
   "outputs": [],
   "source": [
    "con.commit()"
   ]
  },
  {
   "cell_type": "code",
   "execution_count": 60,
   "metadata": {},
   "outputs": [],
   "source": [
    "q=\"insert into players values(12,'swetha','badminton',47687,'india')\""
   ]
  },
  {
   "cell_type": "code",
   "execution_count": 61,
   "metadata": {},
   "outputs": [
    {
     "data": {
      "text/plain": [
       "<sqlite3.Cursor at 0x19c2b1b4260>"
      ]
     },
     "execution_count": 61,
     "metadata": {},
     "output_type": "execute_result"
    }
   ],
   "source": [
    "curb.execute(q)"
   ]
  },
  {
   "cell_type": "code",
   "execution_count": 63,
   "metadata": {},
   "outputs": [],
   "source": [
    "con.commit()"
   ]
  },
  {
   "cell_type": "code",
   "execution_count": 64,
   "metadata": {},
   "outputs": [],
   "source": [
    "lista = [16, 'lebron', 'basketball', 408920, 'US']\n",
    "listb = [20, 'smriti', 'cricket', 12054, 'india']\n",
    "listc = [18, 'saina', 'badminton', 28230, 'india']\n"
   ]
  },
  {
   "cell_type": "code",
   "execution_count": 65,
   "metadata": {},
   "outputs": [],
   "source": [
    "tupa=(lista,listb,listc)"
   ]
  },
  {
   "cell_type": "code",
   "execution_count": 66,
   "metadata": {},
   "outputs": [],
   "source": [
    "listd = [22, 'ronaldo', 'football', 680234, 'portugal']"
   ]
  },
  {
   "cell_type": "code",
   "execution_count": 67,
   "metadata": {},
   "outputs": [],
   "source": [
    "q = \"INSERT into players (id, name, sport, earn, country) VALUES (?,?,?,?,?)\""
   ]
  },
  {
   "cell_type": "code",
   "execution_count": 68,
   "metadata": {},
   "outputs": [
    {
     "data": {
      "text/plain": [
       "<sqlite3.Cursor at 0x19c2b1b4260>"
      ]
     },
     "execution_count": 68,
     "metadata": {},
     "output_type": "execute_result"
    }
   ],
   "source": [
    "curb.execute(q, [14, 'senna', 'foruma1', 346780, 'brazil'])"
   ]
  },
  {
   "cell_type": "code",
   "execution_count": 69,
   "metadata": {},
   "outputs": [],
   "source": [
    "con.commit()"
   ]
  },
  {
   "cell_type": "code",
   "execution_count": 70,
   "metadata": {},
   "outputs": [
    {
     "data": {
      "text/plain": [
       "<sqlite3.Cursor at 0x19c2b1b4260>"
      ]
     },
     "execution_count": 70,
     "metadata": {},
     "output_type": "execute_result"
    }
   ],
   "source": [
    "curb.execute(q,listd)"
   ]
  },
  {
   "cell_type": "code",
   "execution_count": 71,
   "metadata": {},
   "outputs": [],
   "source": [
    "con.commit()"
   ]
  },
  {
   "cell_type": "code",
   "execution_count": 72,
   "metadata": {},
   "outputs": [],
   "source": [
    "curb.executemany(q, tupa)\n",
    "con.commit()"
   ]
  },
  {
   "cell_type": "code",
   "execution_count": null,
   "metadata": {},
   "outputs": [],
   "source": []
  }
 ],
 "metadata": {
  "kernelspec": {
   "display_name": "Python 3",
   "language": "python",
   "name": "python3"
  },
  "language_info": {
   "codemirror_mode": {
    "name": "ipython",
    "version": 3
   },
   "file_extension": ".py",
   "mimetype": "text/x-python",
   "name": "python",
   "nbconvert_exporter": "python",
   "pygments_lexer": "ipython3",
   "version": "3.7.4"
  }
 },
 "nbformat": 4,
 "nbformat_minor": 2
}
