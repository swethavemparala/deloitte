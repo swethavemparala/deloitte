{
 "cells": [
  {
   "cell_type": "code",
   "execution_count": 46,
   "metadata": {},
   "outputs": [
    {
     "name": "stdout",
     "output_type": "stream",
     "text": [
      "3\n",
      "5\n",
      "8\n",
      "-0.3333333333333333\n",
      "-1.0\n"
     ]
    }
   ],
   "source": [
    "import math\n",
    "stra=\"3x(2)+4x+1=0\"\n",
    "a=int(stra[0])\n",
    "print(a)\n",
    "for v1 in stra[1:]:\n",
    "    if(v1=='+'):i1=stra.index(v1)\n",
    "    break\n",
    "print(i1)\n",
    "\"\"\"for v2 in stra[i1+1:]:\n",
    "    if(v2=='+'):\n",
    "        i2=stra.index(v2)\n",
    "print(i2)\"\"\"\n",
    "i2=i1+3\n",
    "print(i2)\n",
    "b=int(stra[i1+1])\n",
    "c=int(stra[i2+1])\n",
    "d=b**2-4*a*c\n",
    "if(d<0):print(\"complex roots\")\n",
    "else:\n",
    "    root1=(-b+math.sqrt(d))/(2*a)\n",
    "    root2=(-b-math.sqrt(d))/(2*a)\n",
    "    print(root1)\n",
    "    print(root2)\n",
    "\n",
    "        \n",
    "\n"
   ]
  },
  {
   "cell_type": "code",
   "execution_count": null,
   "metadata": {},
   "outputs": [],
   "source": []
  }
 ],
 "metadata": {
  "kernelspec": {
   "display_name": "Python 3",
   "language": "python",
   "name": "python3"
  },
  "language_info": {
   "codemirror_mode": {
    "name": "ipython",
    "version": 3
   },
   "file_extension": ".py",
   "mimetype": "text/x-python",
   "name": "python",
   "nbconvert_exporter": "python",
   "pygments_lexer": "ipython3",
   "version": "3.7.4"
  }
 },
 "nbformat": 4,
 "nbformat_minor": 2
}
