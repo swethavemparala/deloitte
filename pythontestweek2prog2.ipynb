{
 "cells": [
  {
   "cell_type": "code",
   "execution_count": 1,
   "metadata": {},
   "outputs": [
    {
     "name": "stdout",
     "output_type": "stream",
     "text": [
      "[('a1', 36), ('a2', 56), ('a3', 89), ('a4', 76)]\n",
      "[('b1', 47), ('b2', 67), ('b3', 90), ('b4', 65)]\n",
      "[('b1', 5), ('b2', 6), ('b3', 9), ('b4', 5)]\n",
      "[('b1', 15), ('b2', 16), ('b3', 19), ('b4', 15)]\n"
     ]
    }
   ],
   "source": [
    "teama={'a1':36,'a2':56,'a3':89,'a4':76}\n",
    "teamb={'b1':47,'b2':67,'b3':90,'b4':65}\n",
    "teamc={'b1':5,'b2':6,'b3':9,'b4':5}\n",
    "teamd={'b1':15,'b2':16,'b3':19,'b4':15}\n",
    "l1=list(teama.items())\n",
    "l2=list(teamb.items())\n",
    "l3=list(teamc.items())\n",
    "l4=list(teamd.items())\n",
    "print(l1)\n",
    "print(l2)\n",
    "print(l3)\n",
    "print(l4)\n",
    "\n",
    "\n"
   ]
  },
  {
   "cell_type": "code",
   "execution_count": null,
   "metadata": {},
   "outputs": [],
   "source": []
  }
 ],
 "metadata": {
  "kernelspec": {
   "display_name": "Python 3",
   "language": "python",
   "name": "python3"
  },
  "language_info": {
   "codemirror_mode": {
    "name": "ipython",
    "version": 3
   },
   "file_extension": ".py",
   "mimetype": "text/x-python",
   "name": "python",
   "nbconvert_exporter": "python",
   "pygments_lexer": "ipython3",
   "version": "3.7.4"
  }
 },
 "nbformat": 4,
 "nbformat_minor": 2
}
