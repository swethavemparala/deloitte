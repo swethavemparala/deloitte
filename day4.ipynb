{
 "cells": [
  {
   "cell_type": "code",
   "execution_count": 16,
   "metadata": {},
   "outputs": [],
   "source": [
    "#1.SUM OF TWO NUMBERS AND AVERAGE"
   ]
  },
  {
   "cell_type": "code",
   "execution_count": 21,
   "metadata": {},
   "outputs": [
    {
     "name": "stdout",
     "output_type": "stream",
     "text": [
      "92.65\n",
      "46.0\n"
     ]
    }
   ],
   "source": [
    "num1=35.76\n",
    "num2=56.89\n",
    "sum=num1+num2\n",
    "print(sum)\n",
    "avg=int(num1+num2)/2\n",
    "print(avg)"
   ]
  },
  {
   "cell_type": "code",
   "execution_count": 24,
   "metadata": {},
   "outputs": [],
   "source": [
    "#2.printing elements less than 15"
   ]
  },
  {
   "cell_type": "code",
   "execution_count": 23,
   "metadata": {},
   "outputs": [
    {
     "name": "stdout",
     "output_type": "stream",
     "text": [
      "4\n",
      "9\n",
      "2\n",
      "10\n"
     ]
    }
   ],
   "source": [
    "lista=[67,4,9,78,2,90,10]\n",
    "for i in lista:\n",
    "    if(i<15):print(i)"
   ]
  },
  {
   "cell_type": "code",
   "execution_count": 31,
   "metadata": {},
   "outputs": [],
   "source": [
    "#3.printing even or odd or different message"
   ]
  },
  {
   "cell_type": "markdown",
   "metadata": {},
   "source": [
    "\n"
   ]
  },
  {
   "cell_type": "code",
   "execution_count": 32,
   "metadata": {},
   "outputs": [
    {
     "name": "stdout",
     "output_type": "stream",
     "text": [
      "num is divisible by 10\n"
     ]
    }
   ],
   "source": [
    "num=10\n",
    "if(num%2==0):\n",
    "    if(num%10==0):\n",
    "        print(\"num is divisible by 10\")\n",
    "    else:\n",
    "        print(\"num is even\")\n",
    "else:\n",
    "    print(\"num is odd\")\n"
   ]
  },
  {
   "cell_type": "code",
   "execution_count": 50,
   "metadata": {},
   "outputs": [],
   "source": [
    "#4.printing sum and product of numbers"
   ]
  },
  {
   "cell_type": "code",
   "execution_count": 51,
   "metadata": {},
   "outputs": [
    {
     "name": "stdout",
     "output_type": "stream",
     "text": [
      "sum is  1000 product is 240000\n"
     ]
    }
   ],
   "source": [
    "a1=400\n",
    "a2=600\n",
    "product=a1*a2\n",
    "sum=a1+a2\n",
    "if(sum<500):print(\"sum is\",sum)\n",
    "else:print(\"sum is \",sum,\"product is\",product)\n",
    "    "
   ]
  },
  {
   "cell_type": "code",
   "execution_count": 53,
   "metadata": {},
   "outputs": [
    {
     "name": "stdout",
     "output_type": "stream",
     "text": [
      "7\n",
      "9\n",
      "11\n",
      "13\n",
      "15\n",
      "17\n",
      "19\n",
      "21\n",
      "23\n",
      "25\n",
      "27\n",
      "29\n",
      "31\n",
      "33\n",
      "35\n",
      "37\n",
      "39\n"
     ]
    }
   ],
   "source": [
    "for j in range(4,21):\n",
    "    print(j+(j-1))"
   ]
  },
  {
   "cell_type": "code",
   "execution_count": 54,
   "metadata": {},
   "outputs": [],
   "source": [
    "#above one is task 5"
   ]
  },
  {
   "cell_type": "code",
   "execution_count": 55,
   "metadata": {},
   "outputs": [],
   "source": [
    "#6.passed letter is vowel or not"
   ]
  },
  {
   "cell_type": "code",
   "execution_count": 72,
   "metadata": {},
   "outputs": [
    {
     "name": "stdout",
     "output_type": "stream",
     "text": [
      "it is a consonant\n"
     ]
    }
   ],
   "source": [
    "letter='p'\n",
    "listvowels=['a','e','i','o','u']\n",
    "if(letter in listvowels):print(\"it is a vowel\")\n",
    "else:print(\"it is a consonant\")"
   ]
  },
  {
   "cell_type": "code",
   "execution_count": 73,
   "metadata": {},
   "outputs": [],
   "source": [
    "#7.string displaying even index charecters"
   ]
  },
  {
   "cell_type": "code",
   "execution_count": 83,
   "metadata": {},
   "outputs": [
    {
     "name": "stdout",
     "output_type": "stream",
     "text": [
      "w\n",
      "t\n",
      "a\n"
     ]
    }
   ],
   "source": [
    "s=\"swetha\"\n",
    "length=len(s)\n",
    "for val in range(0,length+1):\n",
    "    if((val+1)%2==0):print(s[val])\n",
    "\n",
    "    "
   ]
  },
  {
   "cell_type": "code",
   "execution_count": 91,
   "metadata": {},
   "outputs": [],
   "source": [
    "#9.list of numbers and print only 10 multiples"
   ]
  },
  {
   "cell_type": "code",
   "execution_count": 92,
   "metadata": {},
   "outputs": [
    {
     "name": "stdout",
     "output_type": "stream",
     "text": [
      "90\n",
      "20\n",
      "70\n",
      "100\n"
     ]
    }
   ],
   "source": [
    "numbers=[38,90,45,20,70,68,100]\n",
    "l=len(numbers)\n",
    "for val in range(0,l):\n",
    "    if((numbers[val])%10==0):print(numbers[val])"
   ]
  },
  {
   "cell_type": "code",
   "execution_count": 93,
   "metadata": {},
   "outputs": [],
   "source": [
    "#10.given list of integers. find if first and last are same"
   ]
  },
  {
   "cell_type": "code",
   "execution_count": 142,
   "metadata": {},
   "outputs": [
    {
     "name": "stdout",
     "output_type": "stream",
     "text": [
      "first and last elements are same\n"
     ]
    }
   ],
   "source": [
    "lista=[67,98,5,40,92,67]\n",
    "if(lista[0]==lista[-1]):print(\"first and last elements are same\")\n",
    "else:print(\"first and last elements are different\")"
   ]
  },
  {
   "cell_type": "code",
   "execution_count": 98,
   "metadata": {},
   "outputs": [],
   "source": [
    "#11.replace all spaces in list with underscore"
   ]
  },
  {
   "cell_type": "code",
   "execution_count": 134,
   "metadata": {},
   "outputs": [
    {
     "name": "stdout",
     "output_type": "stream",
     "text": [
      "swetha_vemparala\n"
     ]
    }
   ],
   "source": [
    "strb=\"swetha vemparala\"\n",
    "strrep=strb.replace(\" \",\"_\")\n",
    "print(strrep)"
   ]
  },
  {
   "cell_type": "code",
   "execution_count": 126,
   "metadata": {},
   "outputs": [],
   "source": [
    "#12.string is palindrome or not"
   ]
  },
  {
   "cell_type": "raw",
   "metadata": {},
   "source": []
  },
  {
   "cell_type": "code",
   "execution_count": 215,
   "metadata": {},
   "outputs": [
    {
     "name": "stdout",
     "output_type": "stream",
     "text": [
      "['a', 'h', 't', 'e', 'w', 's']\n",
      "not a palindrome\n"
     ]
    }
   ],
   "source": [
    "strb=\"swetha\"\n",
    "l=len(strb)\n",
    "count=0\n",
    "listing=list(strb)\n",
    "listr=listing[::-1]\n",
    "print(listr)\n",
    "if(listing==listr):print(\"palindrome\")\n",
    "else:print(\"not a palindrome\")\n",
    "\n",
    "\n"
   ]
  },
  {
   "cell_type": "code",
   "execution_count": null,
   "metadata": {},
   "outputs": [],
   "source": [
    "#13.fibonicii series"
   ]
  },
  {
   "cell_type": "code",
   "execution_count": 75,
   "metadata": {},
   "outputs": [
    {
     "name": "stdout",
     "output_type": "stream",
     "text": [
      "0\n",
      "1\n",
      "1\n",
      "2\n",
      "3\n",
      "5\n",
      "8\n",
      "13\n"
     ]
    }
   ],
   "source": [
    "n1=0\n",
    "n2=1\n",
    "count=0\n",
    "num=8\n",
    "if(num<=0):print(\"enter positive values\")\n",
    "elif(num==1):print(n1)\n",
    "else:\n",
    "    while(count<num):\n",
    "        print(n1)\n",
    "        nth=n1+n2\n",
    "        n1=n2\n",
    "        n2=nth\n",
    "        count+=1"
   ]
  },
  {
   "cell_type": "code",
   "execution_count": 244,
   "metadata": {},
   "outputs": [],
   "source": [
    "#14.inserting stra in between strb"
   ]
  },
  {
   "cell_type": "code",
   "execution_count": 8,
   "metadata": {},
   "outputs": [
    {
     "name": "stdout",
     "output_type": "stream",
     "text": [
      "swetha is a good girl\n"
     ]
    }
   ],
   "source": [
    "stra=\"swetha is a girl\"\n",
    "strb=\"good\"\n",
    "strc=stra[:12]+strb+\" \"+stra[12:]\n",
    "print(strc)"
   ]
  },
  {
   "cell_type": "code",
   "execution_count": 9,
   "metadata": {},
   "outputs": [],
   "source": [
    "#15.printing pattern"
   ]
  },
  {
   "cell_type": "code",
   "execution_count": 14,
   "metadata": {},
   "outputs": [
    {
     "name": "stdout",
     "output_type": "stream",
     "text": [
      "1 \r\n",
      "1 2 \r\n",
      "1 2 3 \r\n",
      "1 2 3 4 \r\n",
      "1 2 3 4 5 \r\n"
     ]
    }
   ],
   "source": [
    "def printpattern(n):\n",
    "    num=1\n",
    "    for i in range(0,n):\n",
    "        num=1\n",
    "        for j in range(0,i+1):\n",
    "            print(num,end=\" \")\n",
    "            num=num+1\n",
    "        print(\"\\r\")\n",
    "n=5\n",
    "printpattern(n)\n",
    "            "
   ]
  },
  {
   "cell_type": "code",
   "execution_count": 16,
   "metadata": {},
   "outputs": [],
   "source": [
    "#16.printing only 25 percent of string"
   ]
  },
  {
   "cell_type": "code",
   "execution_count": 17,
   "metadata": {},
   "outputs": [
    {
     "name": "stdout",
     "output_type": "stream",
     "text": [
      "h\n",
      "a\n",
      "v\n"
     ]
    }
   ],
   "source": [
    "stra=\"have good food\"\n",
    "l=len(stra)\n",
    "limit=int(l/4)\n",
    "for val in range(0,limit):\n",
    "    print(stra[val])"
   ]
  },
  {
   "cell_type": "code",
   "execution_count": 18,
   "metadata": {},
   "outputs": [],
   "source": [
    "#17.printing centers of list"
   ]
  },
  {
   "cell_type": "code",
   "execution_count": 25,
   "metadata": {},
   "outputs": [
    {
     "name": "stdout",
     "output_type": "stream",
     "text": [
      "7\n"
     ]
    }
   ],
   "source": [
    "lista=[2,8,5,7,6,5,2]\n",
    "l=int(len(lista))\n",
    "l1=int(l/2)\n",
    "l2=int((l-1)/2)\n",
    "if(l%2==0):print(lista[l1],lista[l2])\n",
    "else:print(lista[l1])"
   ]
  },
  {
   "cell_type": "code",
   "execution_count": 26,
   "metadata": {},
   "outputs": [],
   "source": [
    "#18.print8ing only common elements betweeen lists without duplicates"
   ]
  },
  {
   "cell_type": "code",
   "execution_count": 29,
   "metadata": {},
   "outputs": [
    {
     "name": "stdout",
     "output_type": "stream",
     "text": [
      "[3, 6, 7]\n"
     ]
    }
   ],
   "source": [
    "lista=[3,7,9,8,5,6]\n",
    "listb=[3,87,98,6,43,7]\n",
    "seta=set(lista)\n",
    "setb=set(listb)\n",
    "setc=seta&setb\n",
    "listcn=list(setc)\n",
    "print(listcn)\n"
   ]
  },
  {
   "cell_type": "code",
   "execution_count": 30,
   "metadata": {},
   "outputs": [],
   "source": [
    "#19.checking leap year or not"
   ]
  },
  {
   "cell_type": "code",
   "execution_count": 34,
   "metadata": {},
   "outputs": [
    {
     "name": "stdout",
     "output_type": "stream",
     "text": [
      "not leap year\n"
     ]
    }
   ],
   "source": [
    "num=1759\n",
    "if(num%4==0):\n",
    "    if(num%100==0):\n",
    "        if(num%400==0):\n",
    "            print(\"leap year\")\n",
    "        else:\n",
    "            print(\"not leap year\")\n",
    "    else:print(\"leap year\")\n",
    "else:print(\"not leap year\")"
   ]
  },
  {
   "cell_type": "code",
   "execution_count": 35,
   "metadata": {},
   "outputs": [],
   "source": [
    "#20.checking prime or not"
   ]
  },
  {
   "cell_type": "code",
   "execution_count": 39,
   "metadata": {},
   "outputs": [
    {
     "name": "stdout",
     "output_type": "stream",
     "text": [
      "prime\n"
     ]
    }
   ],
   "source": [
    "num=97\n",
    "if(num<1):print(\"prime\")\n",
    "else:\n",
    "    for i in range(2,num):\n",
    "        if(num%i==0):\n",
    "            print(\"composite\")\n",
    "            break\n",
    "    else:print(\"prime\")\n",
    "            "
   ]
  },
  {
   "cell_type": "code",
   "execution_count": 40,
   "metadata": {},
   "outputs": [],
   "source": [
    "#21.extracting values from multinested dictionary"
   ]
  },
  {
   "cell_type": "code",
   "execution_count": 78,
   "metadata": {},
   "outputs": [
    {
     "name": "stdout",
     "output_type": "stream",
     "text": [
      "grass\n",
      "['rat', 'milk']\n",
      "['rice', 'vegetable', 'hen', 'water']\n"
     ]
    }
   ],
   "source": [
    "d={'cow':'grass','cat':['rat','milk'],'man':['rice','vegetable','hen','water']}\n",
    "for i,j in d.items():\n",
    "    print(j)"
   ]
  },
  {
   "cell_type": "code",
   "execution_count": 49,
   "metadata": {},
   "outputs": [],
   "source": [
    "#22.count occurence of each list and prepare a dictionary"
   ]
  },
  {
   "cell_type": "code",
   "execution_count": 69,
   "metadata": {},
   "outputs": [
    {
     "name": "stdout",
     "output_type": "stream",
     "text": [
      "2 : 2\n",
      "6 : 2\n",
      "1 : 5\n",
      "5 : 3\n",
      "7 : 7\n"
     ]
    }
   ],
   "source": [
    "lista=[2,6,2,6,1,1,1,1,1,5,5,5,7,7,7,7,7,7,7]\n",
    "def countfreq(lista):\n",
    "    freq={}\n",
    "for val in lista:\n",
    "        freq[val]=lista.count(val)\n",
    "for i,j in freq.items():\n",
    "    print(i,':',j)\n",
    "countfreq(lista)"
   ]
  },
  {
   "cell_type": "code",
   "execution_count": 70,
   "metadata": {},
   "outputs": [],
   "source": [
    "#23.given list, remove duplicates and prepare tuple find min and max"
   ]
  },
  {
   "cell_type": "code",
   "execution_count": 74,
   "metadata": {},
   "outputs": [
    {
     "name": "stdout",
     "output_type": "stream",
     "text": [
      "(2, 3, 5, 6, 7, 8, 9)\n",
      "9 , 2\n"
     ]
    }
   ],
   "source": [
    "lista=[3,5,6,7,8,9,2,3,5,6,7,9]\n",
    "s=set(lista)\n",
    "t=tuple(s)\n",
    "print(t)\n",
    "maximum=max(t)\n",
    "minimum=min(t)\n",
    "print(maximum,\",\",minimum)"
   ]
  },
  {
   "cell_type": "code",
   "execution_count": null,
   "metadata": {},
   "outputs": [],
   "source": [
    "#24."
   ]
  }
 ],
 "metadata": {
  "kernelspec": {
   "display_name": "Python 3",
   "language": "python",
   "name": "python3"
  },
  "language_info": {
   "codemirror_mode": {
    "name": "ipython",
    "version": 3
   },
   "file_extension": ".py",
   "mimetype": "text/x-python",
   "name": "python",
   "nbconvert_exporter": "python",
   "pygments_lexer": "ipython3",
   "version": "3.7.4"
  }
 },
 "nbformat": 4,
 "nbformat_minor": 2
}
